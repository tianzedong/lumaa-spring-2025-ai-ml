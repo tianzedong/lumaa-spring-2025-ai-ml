{
 "cells": [
  {
   "cell_type": "markdown",
   "metadata": {},
   "source": [
    "# AI/Machine Learning Intern Challenge: Simple Content-Based Recommendation"
   ]
  },
  {
   "cell_type": "code",
   "execution_count": 8,
   "metadata": {},
   "outputs": [],
   "source": [
    "# Import Libraries\n",
    "import pandas as pd\n",
    "from sklearn.feature_extraction.text import TfidfVectorizer\n",
    "from sklearn.metrics.pairwise import cosine_similarity\n",
    "import kagglehub\n",
    "import os"
   ]
  },
  {
   "cell_type": "markdown",
   "metadata": {},
   "source": [
    "## Load dataset\n",
    "\n",
    "The dataset used is `jrobischon/wikipedia-movie-plots` from Kaggle, which contains Wikipedia movie plot summaries. "
   ]
  },
  {
   "cell_type": "code",
   "execution_count": 9,
   "metadata": {},
   "outputs": [],
   "source": [
    "# Download latest version\n",
    "path = kagglehub.dataset_download(\"jrobischon/wikipedia-movie-plots\")\n",
    "csv_path = os.path.join(path, \"wiki_movie_plots_deduped.csv\")\n",
    "df = pd.read_csv(csv_path)\n",
    "\n",
    "df = df.dropna(subset=['Plot']) # drop the rows with missing value for column plot\n",
    "df = df.sample(500, random_state=42)[['Title', 'Plot']] # Randomly sample 500 rows and select relevant columns"
   ]
  },
  {
   "cell_type": "code",
   "execution_count": 10,
   "metadata": {},
   "outputs": [
    {
     "data": {
      "text/html": [
       "<div>\n",
       "<style scoped>\n",
       "    .dataframe tbody tr th:only-of-type {\n",
       "        vertical-align: middle;\n",
       "    }\n",
       "\n",
       "    .dataframe tbody tr th {\n",
       "        vertical-align: top;\n",
       "    }\n",
       "\n",
       "    .dataframe thead th {\n",
       "        text-align: right;\n",
       "    }\n",
       "</style>\n",
       "<table border=\"1\" class=\"dataframe\">\n",
       "  <thead>\n",
       "    <tr style=\"text-align: right;\">\n",
       "      <th></th>\n",
       "      <th>Title</th>\n",
       "      <th>Plot</th>\n",
       "    </tr>\n",
       "  </thead>\n",
       "  <tbody>\n",
       "    <tr>\n",
       "      <th>5337</th>\n",
       "      <td>The Day the Earth Stood Still</td>\n",
       "      <td>When a flying saucer lands in Washington, D.C....</td>\n",
       "    </tr>\n",
       "    <tr>\n",
       "      <th>9809</th>\n",
       "      <td>The Burning</td>\n",
       "      <td>One night at Camp Blackfoot, several campers p...</td>\n",
       "    </tr>\n",
       "    <tr>\n",
       "      <th>24075</th>\n",
       "      <td>Nobel Chor</td>\n",
       "      <td>The first Asian Nobel Laureate, Rabindranath T...</td>\n",
       "    </tr>\n",
       "    <tr>\n",
       "      <th>19057</th>\n",
       "      <td>Trent's Last Case</td>\n",
       "      <td>A major international financier is found dead ...</td>\n",
       "    </tr>\n",
       "    <tr>\n",
       "      <th>24991</th>\n",
       "      <td>Aafat</td>\n",
       "      <td>Inspector Amar and Inspector Chhaya are after ...</td>\n",
       "    </tr>\n",
       "  </tbody>\n",
       "</table>\n",
       "</div>"
      ],
      "text/plain": [
       "                               Title  \\\n",
       "5337   The Day the Earth Stood Still   \n",
       "9809                     The Burning   \n",
       "24075                     Nobel Chor   \n",
       "19057              Trent's Last Case   \n",
       "24991                          Aafat   \n",
       "\n",
       "                                                    Plot  \n",
       "5337   When a flying saucer lands in Washington, D.C....  \n",
       "9809   One night at Camp Blackfoot, several campers p...  \n",
       "24075  The first Asian Nobel Laureate, Rabindranath T...  \n",
       "19057  A major international financier is found dead ...  \n",
       "24991  Inspector Amar and Inspector Chhaya are after ...  "
      ]
     },
     "execution_count": 10,
     "metadata": {},
     "output_type": "execute_result"
    }
   ],
   "source": [
    "# Overview of the dataframe\n",
    "df.head()"
   ]
  },
  {
   "cell_type": "markdown",
   "metadata": {},
   "source": [
    "## Vectorize Plots\n",
    "\n",
    "We use **TF-IDF (Term Frequency-Inverse Document Frequency)**, which:\n",
    "- Emphasizes important words in each plot while reducing the weight of common words (e.g., \"the\", \"and\").\n",
    "- Creates a sparse matrix of features for all movie plots."
   ]
  },
  {
   "cell_type": "code",
   "execution_count": 11,
   "metadata": {},
   "outputs": [
    {
     "name": "stdout",
     "output_type": "stream",
     "text": [
      "TF-IDF matrix shape: (500, 17261)\n"
     ]
    }
   ],
   "source": [
    "vectorizer = TfidfVectorizer()\n",
    "tfidf_matrix = vectorizer.fit_transform(df['Plot'])\n",
    "\n",
    "# The shape should be [500, dim of vector]\n",
    "print(\"TF-IDF matrix shape:\", tfidf_matrix.shape)"
   ]
  },
  {
   "cell_type": "markdown",
   "metadata": {},
   "source": [
    "## Recommendation Function"
   ]
  },
  {
   "cell_type": "code",
   "execution_count": 12,
   "metadata": {},
   "outputs": [],
   "source": [
    "def recommend_movies(query, top_n=5):\n",
    "    \"\"\"\n",
    "    Recommend movies based on a user's text query using TF-IDF and cosine similarity.\n",
    "    \n",
    "    Args:\n",
    "        query: User's text description of preferences (e.g., \"action movies in space\").\n",
    "        top_n: Number of top movies to recommend (default: 5).\n",
    "    \n",
    "    Returns:\n",
    "        list: Titles of the top N recommended movies.\n",
    "    \"\"\"\n",
    "    # vectorize the input\n",
    "    query_vector = vectorizer.transform([query]) \n",
    "    \n",
    "    # Compute cosine similarity \n",
    "    similarities = cosine_similarity(query_vector, tfidf_matrix).flatten()\n",
    "    \n",
    "    # Get the indices of the top N similar movies\n",
    "    top_indices = similarities.argsort()[-top_n:][::-1]\n",
    "    \n",
    "    return df['Title'].iloc[top_indices].tolist()"
   ]
  },
  {
   "cell_type": "markdown",
   "metadata": {},
   "source": [
    "## Sample Query & Outputs"
   ]
  },
  {
   "cell_type": "code",
   "execution_count": 13,
   "metadata": {},
   "outputs": [
    {
     "name": "stdout",
     "output_type": "stream",
     "text": [
      "Query: I want sci-fi thrillers set in outer space with a bit of humor.\n",
      "\n",
      "Recommended Movies: \n",
      "\n",
      "1. Kaizoku Sentai Gokaiger vs. Space Sheriff Gavan: The Movie\n",
      "\n",
      "2.  Angst\n",
      "\n",
      "3. Neighor, The !The Neighbor\n",
      "\n",
      "4. Kamen Rider Kabuto: GOD SPEED LOVE\n",
      "\n",
      "5. The Wayward Bus\n",
      "\n"
     ]
    }
   ],
   "source": [
    "sample_query = \"I want sci-fi thrillers set in outer space with a bit of humor.\"\n",
    "recommendation = recommend_movies(sample_query)\n",
    "print(f\"Query: {sample_query}\\n\")\n",
    "print(\"Recommended Movies: \\n\")\n",
    "for i, (title) in enumerate(recommendation, 1):\n",
    "    print(f\"{i}. {title}\\n\")"
   ]
  },
  {
   "cell_type": "code",
   "execution_count": null,
   "metadata": {},
   "outputs": [],
   "source": []
  }
 ],
 "metadata": {
  "kernelspec": {
   "display_name": "recsys",
   "language": "python",
   "name": "python3"
  },
  "language_info": {
   "codemirror_mode": {
    "name": "ipython",
    "version": 3
   },
   "file_extension": ".py",
   "mimetype": "text/x-python",
   "name": "python",
   "nbconvert_exporter": "python",
   "pygments_lexer": "ipython3",
   "version": "3.9.21"
  }
 },
 "nbformat": 4,
 "nbformat_minor": 2
}
